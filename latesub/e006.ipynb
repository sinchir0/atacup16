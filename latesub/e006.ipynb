{
 "cells": [
  {
   "cell_type": "code",
   "execution_count": 1,
   "metadata": {},
   "outputs": [],
   "source": [
    "import numpy as np\n",
    "import pandas as pd\n",
    "import scipy\n",
    "from sklearn.model_selection import train_test_split\n",
    "from irspack import (\n",
    "    df_to_sparse,\n",
    "    IALSRecommender,\n",
    "    Evaluator,\n",
    "    ItemIDMapper\n",
    ")\n",
    "from tqdm.auto import tqdm"
   ]
  },
  {
   "cell_type": "code",
   "execution_count": 2,
   "metadata": {},
   "outputs": [],
   "source": [
    "union = lambda x, y: x + y - x.multiply(y)"
   ]
  },
  {
   "cell_type": "code",
   "execution_count": 3,
   "metadata": {},
   "outputs": [],
   "source": [
    "DATA_DIR = \"../data\""
   ]
  },
  {
   "cell_type": "code",
   "execution_count": 5,
   "metadata": {},
   "outputs": [],
   "source": [
    "trainvalid_log = pd.read_csv(f'{DATA_DIR}/train_log.csv')\n",
    "trainvalid_label = pd.read_csv(f'{DATA_DIR}/train_label.csv')\n",
    "test_log = pd.read_csv(f'{DATA_DIR}/test_log.csv')\n",
    "test_session = pd.read_csv(f'{DATA_DIR}/test_session.csv')\n",
    "yado = pd.read_csv(f'{DATA_DIR}/yado.csv')\n",
    "sample_submission = pd.read_csv(f'{DATA_DIR}/sample_submission.csv')"
   ]
  },
  {
   "cell_type": "code",
   "execution_count": 6,
   "metadata": {},
   "outputs": [],
   "source": [
    "# セッションの一覧\n",
    "trainvalid_user_ids = trainvalid_log['session_id'].drop_duplicates().to_list()\n",
    "test_user_ids = test_log['session_id'].drop_duplicates().to_list()\n",
    "\n",
    "# 宿の一覧\n",
    "item_ids = yado['yad_no'].drop_duplicates().to_list()"
   ]
  },
  {
   "cell_type": "code",
   "execution_count": 7,
   "metadata": {},
   "outputs": [],
   "source": [
    "train_user_ids, valid_user_ids = train_test_split(trainvalid_user_ids, test_size=0.2, random_state=0)\n",
    "train_log = trainvalid_log.loc[lambda df: df['session_id'].isin(train_user_ids), :].copy()\n",
    "valid_log = trainvalid_log.loc[lambda df: df['session_id'].isin(valid_user_ids), :].copy()\n",
    "train_label = trainvalid_label.loc[lambda df: df['session_id'].isin(train_user_ids), :].copy()\n",
    "valid_label = trainvalid_label.loc[lambda df: df['session_id'].isin(valid_user_ids), :].copy()"
   ]
  },
  {
   "cell_type": "code",
   "execution_count": 8,
   "metadata": {},
   "outputs": [],
   "source": [
    "def log_to_matrix(log, label, user_ids, item_ids):\n",
    "    # 出現した宿\n",
    "    matrix_x, _, _ = df_to_sparse(\n",
    "        df = log[['session_id', 'yad_no']].drop_duplicates(),\n",
    "        user_column='session_id',\n",
    "        item_column='yad_no',\n",
    "        user_ids=user_ids,\n",
    "        item_ids=item_ids\n",
    "    )\n",
    "\n",
    "    # 予約された宿\n",
    "    if label is not None:\n",
    "        matrix_y, _, _ = df_to_sparse(\n",
    "            df=label,\n",
    "            user_column='session_id',\n",
    "            item_column='yad_no',\n",
    "            user_ids=user_ids,\n",
    "            item_ids=item_ids\n",
    "        )\n",
    "    else:\n",
    "        matrix_y = None\n",
    "\n",
    "    # レコメンド対象外の宿 (各セッション内で最後に出現する宿)\n",
    "    matrix_mask, _, _ = df_to_sparse(\n",
    "        df = (\n",
    "            log\n",
    "            .merge(\n",
    "                log.groupby('session_id')['seq_no'].max().rename('seq_no_max'),\n",
    "                how='left',\n",
    "                on='session_id'\n",
    "            )\n",
    "            .loc[lambda df: df['seq_no'] == df['seq_no_max'], :]\n",
    "        ),\n",
    "        user_column='session_id',\n",
    "        item_column='yad_no',\n",
    "        user_ids=user_ids,\n",
    "        item_ids=item_ids\n",
    "    )\n",
    "\n",
    "    return matrix_x, matrix_y, matrix_mask"
   ]
  },
  {
   "cell_type": "code",
   "execution_count": 9,
   "metadata": {},
   "outputs": [],
   "source": [
    "train_matrix_x, train_matrix_y, train_matrix_mask = \\\n",
    "    log_to_matrix(train_log, train_label, train_user_ids, item_ids)\n",
    "valid_matrix_x, valid_matrix_y, valid_matrix_mask = \\\n",
    "    log_to_matrix(valid_log, valid_label, valid_user_ids, item_ids)\n",
    "test_matrix_x, test_matrix_y, test_matrix_mask = \\\n",
    "    log_to_matrix(test_log, None, test_user_ids, item_ids)"
   ]
  },
  {
   "cell_type": "code",
   "execution_count": 10,
   "metadata": {},
   "outputs": [],
   "source": [
    "def get_user_ids_seq_no_max_over_1_index(log, user_ids):\n",
    "    user_ids_seq_no_max_over_1 = (\n",
    "        log\n",
    "        .groupby('session_id')['seq_no'].max()\n",
    "        .loc[lambda s: s > 0]\n",
    "        .index\n",
    "        .to_list()\n",
    "    )\n",
    "    user_ids_seq_no_max_over_1_set = set(user_ids_seq_no_max_over_1)\n",
    "    user_ids_seq_no_max_over_1_index = [\n",
    "        i\n",
    "        for i, user_id in enumerate(user_ids)\n",
    "        if user_id in user_ids_seq_no_max_over_1_set\n",
    "    ]\n",
    "\n",
    "    return user_ids_seq_no_max_over_1_index"
   ]
  },
  {
   "cell_type": "code",
   "execution_count": 11,
   "metadata": {},
   "outputs": [],
   "source": [
    "# train_user_ids_seq_no_max_over_1_index = \\\n",
    "#     get_user_ids_seq_no_max_over_1_index(train_log, train_user_ids)\n",
    "# valid_user_ids_seq_no_max_over_1_index = \\\n",
    "#     get_user_ids_seq_no_max_over_1_index(valid_log, valid_user_ids)\n",
    "test_user_ids_seq_no_max_over_1_index = \\\n",
    "    get_user_ids_seq_no_max_over_1_index(test_log, test_user_ids)"
   ]
  },
  {
   "cell_type": "code",
   "execution_count": 12,
   "metadata": {},
   "outputs": [],
   "source": [
    "valid_evaluator = Evaluator(\n",
    "    valid_matrix_y,\n",
    "    target_metric='map',\n",
    "    cutoff=10,\n",
    "    masked_interactions=valid_matrix_mask\n",
    ")"
   ]
  },
  {
   "cell_type": "code",
   "execution_count": 13,
   "metadata": {},
   "outputs": [],
   "source": [
    "# ハイパラ調整の結果 (メモリ不足で中断したので最適じゃないかも……)\n",
    "best_params = {\n",
    "    'n_components': 1600,\n",
    "    'alpha0': 0.001297421599991797,\n",
    "    'reg': 0.010800184775061342,\n",
    "    'train_epochs': 3\n",
    "}"
   ]
  },
  {
   "cell_type": "code",
   "execution_count": 14,
   "metadata": {},
   "outputs": [
    {
     "data": {
      "text/html": [
       "\n",
       "<style>\n",
       "    /* Turns off some styling */\n",
       "    progress {\n",
       "        /* gets rid of default border in Firefox and Opera. */\n",
       "        border: none;\n",
       "        /* Needs to be in here for Safari polyfill so background images work as expected. */\n",
       "        background-size: auto;\n",
       "    }\n",
       "    progress:not([value]), progress:not([value])::-webkit-progress-bar {\n",
       "        background: repeating-linear-gradient(45deg, #7e7e7e, #7e7e7e 10px, #5c5c5c 10px, #5c5c5c 20px);\n",
       "    }\n",
       "    .progress-bar-interrupted, .progress-bar-interrupted::-webkit-progress-bar {\n",
       "        background: #F44336;\n",
       "    }\n",
       "</style>\n"
      ],
      "text/plain": [
       "<IPython.core.display.HTML object>"
      ]
     },
     "metadata": {},
     "output_type": "display_data"
    },
    {
     "data": {
      "text/html": [
       "\n",
       "    <div>\n",
       "      <progress value='3' class='' max='3' style='width:300px; height:20px; vertical-align: middle;'></progress>\n",
       "      100.00% [3/3 02:30&lt;00:00]\n",
       "    </div>\n",
       "    "
      ],
      "text/plain": [
       "<IPython.core.display.HTML object>"
      ]
     },
     "metadata": {},
     "output_type": "display_data"
    },
    {
     "data": {
      "text/plain": [
       "{'appeared_item': 11471.0,\n",
       " 'entropy': 8.616186750611389,\n",
       " 'gini_index': 0.695784365276243,\n",
       " 'hit': 0.5771908555594042,\n",
       " 'map': 0.38353862552987933,\n",
       " 'n_items': 13806.0,\n",
       " 'ndcg': 0.42880331398477156,\n",
       " 'precision': 0.05771908555594042,\n",
       " 'recall': 0.5771908555594042,\n",
       " 'total_user': 57740.0,\n",
       " 'valid_user': 57740.0}"
      ]
     },
     "execution_count": 14,
     "metadata": {},
     "output_type": "execute_result"
    }
   ],
   "source": [
    "valid_recommender = IALSRecommender(\n",
    "    scipy.sparse.vstack([\n",
    "        valid_matrix_x,\n",
    "        union(train_matrix_x, train_matrix_y)\n",
    "    ]),\n",
    "    **best_params,\n",
    "    random_seed=0\n",
    ").learn()\n",
    "valid_evaluator.get_score(valid_recommender)"
   ]
  },
  {
   "cell_type": "code",
   "execution_count": 15,
   "metadata": {},
   "outputs": [
    {
     "data": {
      "text/html": [
       "\n",
       "<style>\n",
       "    /* Turns off some styling */\n",
       "    progress {\n",
       "        /* gets rid of default border in Firefox and Opera. */\n",
       "        border: none;\n",
       "        /* Needs to be in here for Safari polyfill so background images work as expected. */\n",
       "        background-size: auto;\n",
       "    }\n",
       "    progress:not([value]), progress:not([value])::-webkit-progress-bar {\n",
       "        background: repeating-linear-gradient(45deg, #7e7e7e, #7e7e7e 10px, #5c5c5c 10px, #5c5c5c 20px);\n",
       "    }\n",
       "    .progress-bar-interrupted, .progress-bar-interrupted::-webkit-progress-bar {\n",
       "        background: #F44336;\n",
       "    }\n",
       "</style>\n"
      ],
      "text/plain": [
       "<IPython.core.display.HTML object>"
      ]
     },
     "metadata": {},
     "output_type": "display_data"
    },
    {
     "data": {
      "text/html": [
       "\n",
       "    <div>\n",
       "      <progress value='3' class='' max='3' style='width:300px; height:20px; vertical-align: middle;'></progress>\n",
       "      100.00% [3/3 07:29&lt;00:00]\n",
       "    </div>\n",
       "    "
      ],
      "text/plain": [
       "<IPython.core.display.HTML object>"
      ]
     },
     "metadata": {},
     "output_type": "display_data"
    }
   ],
   "source": [
    "test_recommender = IALSRecommender(\n",
    "    scipy.sparse.vstack([\n",
    "        test_matrix_x,\n",
    "        union(train_matrix_x, train_matrix_y),\n",
    "        union(valid_matrix_x, valid_matrix_y),\n",
    "        # 学習データ-テストデータ間のシフト対策として、テストデータを10倍にする。\n",
    "        test_matrix_x[test_user_ids_seq_no_max_over_1_index, :],\n",
    "        test_matrix_x[test_user_ids_seq_no_max_over_1_index, :],\n",
    "        test_matrix_x[test_user_ids_seq_no_max_over_1_index, :],\n",
    "        test_matrix_x[test_user_ids_seq_no_max_over_1_index, :],\n",
    "        test_matrix_x[test_user_ids_seq_no_max_over_1_index, :],\n",
    "        test_matrix_x[test_user_ids_seq_no_max_over_1_index, :],\n",
    "        test_matrix_x[test_user_ids_seq_no_max_over_1_index, :],\n",
    "        test_matrix_x[test_user_ids_seq_no_max_over_1_index, :],\n",
    "        test_matrix_x[test_user_ids_seq_no_max_over_1_index, :]\n",
    "    ]),\n",
    "    **best_params,\n",
    "    random_seed=0\n",
    ").learn()"
   ]
  },
  {
   "cell_type": "code",
   "execution_count": null,
   "metadata": {},
   "outputs": [],
   "source": [
    "def get_candidates(recommender, offset, matrix_mask, user_ids, item_ids, num_candidates):\n",
    "    batch_size = 10000\n",
    "    id_mapper = ItemIDMapper(item_ids)\n",
    "    cantidates = []\n",
    "    for begin in tqdm(range(0, len(user_ids), batch_size)):\n",
    "        end = min(begin + batch_size, len(user_ids))\n",
    "        score = recommender.get_score_block(begin + offset, end + offset)\n",
    "        score[matrix_mask[begin:end, :].nonzero()] = -np.inf\n",
    "        cantidates += id_mapper.score_to_recommended_items_batch(score, cutoff=num_candidates)\n",
    "    cantidates = (\n",
    "        pd.DataFrame(\n",
    "            [\n",
    "                (user_ids[user_ids_index], rank + 1, yad_no, score)\n",
    "                for user_ids_index, cantidates_per_user in enumerate(cantidates)\n",
    "                for rank, (yad_no, score) in enumerate(cantidates_per_user)\n",
    "            ],\n",
    "            columns = ['session_id', 'rank', 'yad_no', 'score']\n",
    "        )\n",
    "    )\n",
    "\n",
    "    return cantidates"
   ]
  }
 ],
 "metadata": {
  "kernelspec": {
   "display_name": ".venv",
   "language": "python",
   "name": "python3"
  },
  "language_info": {
   "codemirror_mode": {
    "name": "ipython",
    "version": 3
   },
   "file_extension": ".py",
   "mimetype": "text/x-python",
   "name": "python",
   "nbconvert_exporter": "python",
   "pygments_lexer": "ipython3",
   "version": "3.11.3"
  }
 },
 "nbformat": 4,
 "nbformat_minor": 2
}
