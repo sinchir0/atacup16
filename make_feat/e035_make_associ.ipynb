{
 "cells": [
  {
   "cell_type": "code",
   "execution_count": 7,
   "metadata": {},
   "outputs": [],
   "source": [
    "NOTEBOOK_NAME = \"e035_make_associ\""
   ]
  },
  {
   "cell_type": "code",
   "execution_count": 8,
   "metadata": {},
   "outputs": [],
   "source": [
    "import polars as pl\n",
    "import os"
   ]
  },
  {
   "cell_type": "code",
   "execution_count": 9,
   "metadata": {},
   "outputs": [],
   "source": [
    "class Config:\n",
    "    OUTPUT_DIR = f\"../saved_data/{NOTEBOOK_NAME}\"\n",
    "    SEED = 33\n",
    "    TARGET_COL = \"reserve\"\n",
    "\n",
    "\n",
    "os.makedirs(Config.OUTPUT_DIR, exist_ok=True)"
   ]
  },
  {
   "cell_type": "code",
   "execution_count": 2,
   "metadata": {},
   "outputs": [],
   "source": [
    "train_log = pl.read_csv(\"../data/train_log.csv\")\n",
    "test_log = pl.read_csv(\"../data/test_log.csv\")"
   ]
  },
  {
   "cell_type": "code",
   "execution_count": 10,
   "metadata": {},
   "outputs": [],
   "source": [
    "def generate_co_visit_matrix(df: pl.DataFrame) -> pl.DataFrame:\n",
    "    # 共起ペアの作成\n",
    "    df = df.join(df, on=\"session_id\")\n",
    "    # yad_noが同じものは除外する\n",
    "    df = df.filter(pl.col(\"yad_no\") != pl.col(\"yad_no_right\"))\n",
    "    # yad_noのペアごとに共起回数を計算\n",
    "    df = df.group_by([\"yad_no\", \"yad_no_right\"]).count()\n",
    "    # 整形\n",
    "    df = df.rename(\n",
    "        {\n",
    "            \"yad_no_right\": \"candidate_yad_no\",\n",
    "            \"count\": \"co_visit_count\",\n",
    "        }\n",
    "    )[[\"yad_no\", \"candidate_yad_no\", \"co_visit_count\"]]\n",
    "\n",
    "    return df\n",
    "\n",
    "\n",
    "train_co_visit_matrix = generate_co_visit_matrix(train_log)\n",
    "test_co_visit_matrix = generate_co_visit_matrix(test_log)\n",
    "\n",
    "# 最後に見た宿と紐づけてcandidateを作成するために、renameしておく。\n",
    "train_co_visit_matrix = train_co_visit_matrix.rename(\n",
    "    {\"yad_no\": \"latest_yad_no\", \"candidate_yad_no\": \"yad_no\"}\n",
    ")\n",
    "test_co_visit_matrix = test_co_visit_matrix.rename(\n",
    "    {\"yad_no\": \"latest_yad_no\", \"candidate_yad_no\": \"yad_no\"}\n",
    ")\n",
    "train_co_visit_matrix_top10_candidate = (\n",
    "    train_co_visit_matrix.sort(\n",
    "        [\"latest_yad_no\", \"co_visit_count\"], descending=[False, True]\n",
    "    )\n",
    "    .group_by(\"latest_yad_no\")\n",
    "    .head(10)\n",
    ")\n",
    "test_co_visit_matrix_top10_candidate = (\n",
    "    test_co_visit_matrix.sort(\n",
    "        [\"latest_yad_no\", \"co_visit_count\"], descending=[False, True]\n",
    "    )\n",
    "    .group_by(\"latest_yad_no\")\n",
    "    .head(10)\n",
    ")"
   ]
  },
  {
   "cell_type": "code",
   "execution_count": 12,
   "metadata": {},
   "outputs": [],
   "source": [
    "train_co_visit_matrix.write_parquet(f\"{Config.OUTPUT_DIR}/train_co_visit_matrix.pkl\")\n",
    "test_co_visit_matrix.write_parquet(f\"{Config.OUTPUT_DIR}/test_co_visit_matrix.pkl\")"
   ]
  },
  {
   "cell_type": "code",
   "execution_count": null,
   "metadata": {},
   "outputs": [],
   "source": []
  }
 ],
 "metadata": {
  "kernelspec": {
   "display_name": ".venv",
   "language": "python",
   "name": "python3"
  },
  "language_info": {
   "codemirror_mode": {
    "name": "ipython",
    "version": 3
   },
   "file_extension": ".py",
   "mimetype": "text/x-python",
   "name": "python",
   "nbconvert_exporter": "python",
   "pygments_lexer": "ipython3",
   "version": "3.11.3"
  }
 },
 "nbformat": 4,
 "nbformat_minor": 2
}
