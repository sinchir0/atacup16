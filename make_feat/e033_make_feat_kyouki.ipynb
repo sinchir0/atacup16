{
 "cells": [
  {
   "cell_type": "code",
   "execution_count": 6,
   "metadata": {},
   "outputs": [],
   "source": [
    "NOTEBOOK_NAME = \"e033_make_feat_kyouki\""
   ]
  },
  {
   "cell_type": "code",
   "execution_count": 7,
   "metadata": {},
   "outputs": [],
   "source": [
    "import os\n",
    "import pandas as pd\n",
    "import pickle\n",
    "from tqdm.auto import tqdm\n",
    "from sklearn.decomposition import TruncatedSVD"
   ]
  },
  {
   "cell_type": "code",
   "execution_count": 8,
   "metadata": {},
   "outputs": [],
   "source": [
    "class Config:\n",
    "    OUTPUT_DIR = f\"../saved_data/{NOTEBOOK_NAME}\"\n",
    "    SEED = 33\n",
    "    TARGET_COL = \"reserve\"\n",
    "\n",
    "\n",
    "os.makedirs(Config.OUTPUT_DIR, exist_ok=True)"
   ]
  },
  {
   "cell_type": "code",
   "execution_count": 9,
   "metadata": {},
   "outputs": [],
   "source": [
    "import os\n",
    "import pandas as pd\n",
    "import pickle\n",
    "from tqdm.auto import tqdm\n",
    "from sklearn.decomposition import TruncatedSVD"
   ]
  },
  {
   "cell_type": "code",
   "execution_count": 10,
   "metadata": {},
   "outputs": [],
   "source": [
    "train_log = pd.read_csv(\"../data/train_log.csv\")\n",
    "train_label = pd.read_csv(\"../data/train_label.csv\")"
   ]
  },
  {
   "cell_type": "code",
   "execution_count": 11,
   "metadata": {},
   "outputs": [],
   "source": [
    "# e016にて、データ作成時にfoldを利用するように変更\n",
    "with open(\n",
    "    \"../saved_data/e016_make_train_popular_base/session_id_fold_dict.pkl\", \"rb\"\n",
    ") as f:\n",
    "    session_id_fold_dict = pickle.load(f)"
   ]
  },
  {
   "cell_type": "code",
   "execution_count": 12,
   "metadata": {},
   "outputs": [],
   "source": [
    "train_label[\"fold\"] = train_label[\"session_id\"].map(session_id_fold_dict)"
   ]
  },
  {
   "cell_type": "code",
   "execution_count": 13,
   "metadata": {},
   "outputs": [
    {
     "data": {
      "application/vnd.jupyter.widget-view+json": {
       "model_id": "fd9c99f1dc374fa4a50574a94dc11927",
       "version_major": 2,
       "version_minor": 0
      },
      "text/plain": [
       "  0%|          | 0/5 [00:00<?, ?it/s]"
      ]
     },
     "metadata": {},
     "output_type": "display_data"
    }
   ],
   "source": [
    "def make_kyouki_df(train_log: pd.DataFrame, train_label: pd.DataFrame):\n",
    "    # latest_yad_noを追加する\n",
    "    train_log = train_log.copy()\n",
    "    train_label = train_label.copy()\n",
    "\n",
    "    train_log_latest = (\n",
    "        train_log.groupby(\"session_id\")[\"yad_no\"]\n",
    "        .apply(lambda x: list(x)[-1])\n",
    "        .rename(\"latest_yad_no\")\n",
    "    )\n",
    "\n",
    "    train_label = train_label.merge(train_log_latest, on=\"session_id\", how=\"left\")\n",
    "\n",
    "    kyouki_arr_reduced_dfs = []\n",
    "    for i in tqdm(range(5)):\n",
    "        train_label_wo_fold = train_label[train_label[\"fold\"] != i]\n",
    "\n",
    "        # 超スパースな共起行列を取得する\n",
    "        kyouki_arr = pd.pivot_table(\n",
    "            train_label_wo_fold,\n",
    "            index=\"latest_yad_no\",\n",
    "            columns=\"yad_no\",\n",
    "            aggfunc=\"count\",\n",
    "        ).fillna(\n",
    "            0\n",
    "        )  # 該当しない組み合わせは0にする\n",
    "\n",
    "        # kyouki_arrをTruncartedSVDで100次元に次元削減する\n",
    "        svd = TruncatedSVD(n_components=100, random_state=Config.SEED)\n",
    "        kyouki_arr_reduced = svd.fit_transform(kyouki_arr)\n",
    "\n",
    "        # kyouki_arrのindexを、kyouki_arr_reducedを結合する\n",
    "        kyouki_arr_reduced_df = pd.DataFrame(\n",
    "            kyouki_arr_reduced, index=kyouki_arr.index\n",
    "        ).add_prefix(\"kyouki_arr_reduced_\")\n",
    "\n",
    "        kyouki_arr_reduced_df.insert(0, \"fold\", i)\n",
    "        kyouki_arr_reduced_dfs.append(kyouki_arr_reduced_df)\n",
    "\n",
    "    kyouki_df = pd.concat(kyouki_arr_reduced_dfs)\n",
    "    kyouki_df = kyouki_df.reset_index()\n",
    "    return kyouki_df\n",
    "\n",
    "\n",
    "kyouki_df_train = make_kyouki_df(train_log, train_label)"
   ]
  },
  {
   "cell_type": "code",
   "execution_count": 20,
   "metadata": {},
   "outputs": [],
   "source": [
    "def make_kyouki_df_test(train_log: pd.DataFrame, train_label: pd.DataFrame):\n",
    "    # latest_yad_noを追加する\n",
    "    train_log = train_log.copy()\n",
    "    train_label = train_label.copy()\n",
    "\n",
    "    train_log_latest = (\n",
    "        train_log.groupby(\"session_id\")[\"yad_no\"]\n",
    "        .apply(lambda x: list(x)[-1])\n",
    "        .rename(\"latest_yad_no\")\n",
    "    )\n",
    "\n",
    "    train_label = train_label.merge(train_log_latest, on=\"session_id\", how=\"left\")\n",
    "\n",
    "    # 超スパースな共起行列を取得する\n",
    "    kyouki_arr = pd.pivot_table(\n",
    "        train_label,\n",
    "        index=\"latest_yad_no\",\n",
    "        columns=\"yad_no\",\n",
    "        aggfunc=\"count\",\n",
    "    ).fillna(\n",
    "        0\n",
    "    )  # 該当しない組み合わせは0にする\n",
    "\n",
    "    # kyouki_arrをTruncartedSVDで100次元に次元削減する\n",
    "    svd = TruncatedSVD(n_components=100, random_state=Config.SEED)\n",
    "    kyouki_arr_reduced = svd.fit_transform(kyouki_arr)\n",
    "\n",
    "    # kyouki_arrのindexを、kyouki_arr_reducedを結合する\n",
    "    kyouki_df = pd.DataFrame(kyouki_arr_reduced, index=kyouki_arr.index).add_prefix(\n",
    "        \"kyouki_arr_reduced_\"\n",
    "    )\n",
    "\n",
    "    kyouki_df = kyouki_df.reset_index()\n",
    "    return kyouki_df\n",
    "\n",
    "\n",
    "kyouki_df_test = make_kyouki_df_test(train_log, train_label)"
   ]
  },
  {
   "cell_type": "code",
   "execution_count": 23,
   "metadata": {},
   "outputs": [],
   "source": [
    "kyouki_df_train.to_pickle(f\"{Config.OUTPUT_DIR}/kyouki_df_train.pkl\")\n",
    "kyouki_df_test.to_pickle(f\"{Config.OUTPUT_DIR}/kyouki_df_test.pkl\")"
   ]
  },
  {
   "cell_type": "code",
   "execution_count": null,
   "metadata": {},
   "outputs": [],
   "source": []
  }
 ],
 "metadata": {
  "kernelspec": {
   "display_name": ".venv",
   "language": "python",
   "name": "python3"
  },
  "language_info": {
   "codemirror_mode": {
    "name": "ipython",
    "version": 3
   },
   "file_extension": ".py",
   "mimetype": "text/x-python",
   "name": "python",
   "nbconvert_exporter": "python",
   "pygments_lexer": "ipython3",
   "version": "3.11.3"
  }
 },
 "nbformat": 4,
 "nbformat_minor": 2
}
