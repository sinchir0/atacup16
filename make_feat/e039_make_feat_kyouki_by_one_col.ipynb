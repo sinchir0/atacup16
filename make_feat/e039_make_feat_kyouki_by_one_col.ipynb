{
 "cells": [
  {
   "cell_type": "code",
   "execution_count": 34,
   "metadata": {},
   "outputs": [],
   "source": [
    "NOTEBOOK_NAME = \"e039_make_feat_kyouki_by_one_col\""
   ]
  },
  {
   "cell_type": "code",
   "execution_count": 35,
   "metadata": {},
   "outputs": [],
   "source": [
    "import os\n",
    "import pandas as pd\n",
    "import pickle\n",
    "from tqdm.auto import tqdm\n",
    "from sklearn.decomposition import TruncatedSVD"
   ]
  },
  {
   "cell_type": "code",
   "execution_count": 36,
   "metadata": {},
   "outputs": [],
   "source": [
    "class Config:\n",
    "    OUTPUT_DIR = f\"../saved_data/{NOTEBOOK_NAME}\"\n",
    "    SEED = 33\n",
    "    TARGET_COL = \"reserve\"\n",
    "\n",
    "\n",
    "os.makedirs(Config.OUTPUT_DIR, exist_ok=True)"
   ]
  },
  {
   "cell_type": "code",
   "execution_count": 37,
   "metadata": {},
   "outputs": [],
   "source": [
    "import os\n",
    "import pandas as pd\n",
    "import pickle\n",
    "from tqdm.auto import tqdm\n",
    "from sklearn.decomposition import TruncatedSVD"
   ]
  },
  {
   "cell_type": "code",
   "execution_count": 38,
   "metadata": {},
   "outputs": [],
   "source": [
    "train_log = pd.read_csv(\"../data/train_log.csv\")\n",
    "train_label = pd.read_csv(\"../data/train_label.csv\")"
   ]
  },
  {
   "cell_type": "code",
   "execution_count": 39,
   "metadata": {},
   "outputs": [],
   "source": [
    "# e016にて、データ作成時にfoldを利用するように変更\n",
    "with open(\n",
    "    \"../saved_data/e016_make_train_popular_base/session_id_fold_dict.pkl\", \"rb\"\n",
    ") as f:\n",
    "    session_id_fold_dict = pickle.load(f)"
   ]
  },
  {
   "cell_type": "code",
   "execution_count": 40,
   "metadata": {},
   "outputs": [],
   "source": [
    "train_label[\"fold\"] = train_label[\"session_id\"].map(session_id_fold_dict)"
   ]
  },
  {
   "cell_type": "code",
   "execution_count": 41,
   "metadata": {},
   "outputs": [
    {
     "data": {
      "application/vnd.jupyter.widget-view+json": {
       "model_id": "064cd2b3a80b4ee5a9f3726ca15ff499",
       "version_major": 2,
       "version_minor": 0
      },
      "text/plain": [
       "  0%|          | 0/5 [00:00<?, ?it/s]"
      ]
     },
     "metadata": {},
     "output_type": "display_data"
    }
   ],
   "source": [
    "def make_kyouki_df(train_log: pd.DataFrame, train_label: pd.DataFrame):\n",
    "    # latest_yad_noを追加する\n",
    "    train_log = train_log.copy()\n",
    "    train_label = train_label.copy()\n",
    "\n",
    "    train_log_latest = (\n",
    "        train_log.groupby(\"session_id\")[\"yad_no\"]\n",
    "        .apply(lambda x: list(x)[-1])\n",
    "        .rename(\"latest_yad_no\")\n",
    "    )\n",
    "\n",
    "    train_label = train_label.merge(train_log_latest, on=\"session_id\", how=\"left\")\n",
    "    train_latest_yad_no_yad_no_cnts = []\n",
    "    for i in tqdm(range(5)):\n",
    "        train_label_wo_fold = train_label[train_label[\"fold\"] != i]\n",
    "\n",
    "        train_latest_yad_no_yad_no_cnt = (\n",
    "            train_label_wo_fold.groupby(\"latest_yad_no\")[\"yad_no\"]\n",
    "            .value_counts()\n",
    "            .reset_index()\n",
    "        )\n",
    "\n",
    "        train_latest_yad_no_yad_no_cnt.insert(0, \"fold\", i)\n",
    "        train_latest_yad_no_yad_no_cnts.append(train_latest_yad_no_yad_no_cnt)\n",
    "\n",
    "    kyouki_cnt_df = pd.concat(train_latest_yad_no_yad_no_cnts)\n",
    "    return kyouki_cnt_df\n",
    "\n",
    "\n",
    "kyouki_train_df = make_kyouki_df(train_log, train_label)"
   ]
  },
  {
   "cell_type": "code",
   "execution_count": 42,
   "metadata": {},
   "outputs": [],
   "source": [
    "def make_kyouki_df_test(train_log: pd.DataFrame, train_label: pd.DataFrame):\n",
    "    # latest_yad_noを追加する\n",
    "    train_log = train_log.copy()\n",
    "    train_label = train_label.copy()\n",
    "\n",
    "    train_log_latest = (\n",
    "        train_log.groupby(\"session_id\")[\"yad_no\"]\n",
    "        .apply(lambda x: list(x)[-1])\n",
    "        .rename(\"latest_yad_no\")\n",
    "    )\n",
    "\n",
    "    train_label = train_label.merge(train_log_latest, on=\"session_id\", how=\"left\")\n",
    "\n",
    "    train_latest_yad_no_yad_no_cnt = (\n",
    "        train_label.groupby(\"latest_yad_no\")[\"yad_no\"].value_counts().reset_index()\n",
    "    )\n",
    "    return train_latest_yad_no_yad_no_cnt\n",
    "\n",
    "\n",
    "kyouki_df_test = make_kyouki_df_test(train_log, train_label)"
   ]
  },
  {
   "cell_type": "code",
   "execution_count": 43,
   "metadata": {},
   "outputs": [],
   "source": [
    "kyouki_train_df.to_pickle(f\"{Config.OUTPUT_DIR}/kyouki_df_cnt_train.pkl\")\n",
    "kyouki_df_test.to_pickle(f\"{Config.OUTPUT_DIR}/kyouki_df_cnt_test.pkl\")"
   ]
  },
  {
   "cell_type": "code",
   "execution_count": 44,
   "metadata": {},
   "outputs": [
    {
     "data": {
      "text/plain": [
       "'../saved_data/e039_make_feat_kyouki_by_one_col/kyouki_df_cnt_train.pkl'"
      ]
     },
     "execution_count": 44,
     "metadata": {},
     "output_type": "execute_result"
    }
   ],
   "source": [
    "f\"{Config.OUTPUT_DIR}/kyouki_df_cnt_train.pkl\""
   ]
  },
  {
   "cell_type": "code",
   "execution_count": null,
   "metadata": {},
   "outputs": [],
   "source": []
  }
 ],
 "metadata": {
  "kernelspec": {
   "display_name": ".venv",
   "language": "python",
   "name": "python3"
  },
  "language_info": {
   "codemirror_mode": {
    "name": "ipython",
    "version": 3
   },
   "file_extension": ".py",
   "mimetype": "text/x-python",
   "name": "python",
   "nbconvert_exporter": "python",
   "pygments_lexer": "ipython3",
   "version": "3.11.3"
  }
 },
 "nbformat": 4,
 "nbformat_minor": 2
}
