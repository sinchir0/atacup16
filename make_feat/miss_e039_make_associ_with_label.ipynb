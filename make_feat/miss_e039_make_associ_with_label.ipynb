{
 "cells": [
  {
   "cell_type": "code",
   "execution_count": 1,
   "metadata": {},
   "outputs": [],
   "source": [
    "NOTEBOOK_NAME = \"e039_make_associ_with_label\""
   ]
  },
  {
   "cell_type": "code",
   "execution_count": 2,
   "metadata": {},
   "outputs": [],
   "source": [
    "import polars as pl\n",
    "import os"
   ]
  },
  {
   "cell_type": "code",
   "execution_count": 3,
   "metadata": {},
   "outputs": [],
   "source": [
    "class Config:\n",
    "    OUTPUT_DIR = f\"../saved_data/{NOTEBOOK_NAME}\"\n",
    "    SEED = 33\n",
    "    TARGET_COL = \"reserve\"\n",
    "\n",
    "\n",
    "os.makedirs(Config.OUTPUT_DIR, exist_ok=True)"
   ]
  },
  {
   "cell_type": "code",
   "execution_count": 4,
   "metadata": {},
   "outputs": [],
   "source": [
    "train_log = pl.read_csv(\"../data/train_log.csv\")\n",
    "test_log = pl.read_csv(\"../data/test_log.csv\")"
   ]
  },
  {
   "cell_type": "code",
   "execution_count": 8,
   "metadata": {},
   "outputs": [],
   "source": [
    "# e016にて、データ作成時にfoldを利用するように変更\n",
    "import pickle\n",
    "\n",
    "with open(\n",
    "    \"../saved_data/e016_make_train_popular_base/session_id_fold_dict.pkl\", \"rb\"\n",
    ") as f:\n",
    "    session_id_fold_dict = pickle.load(f)"
   ]
  },
  {
   "cell_type": "code",
   "execution_count": 14,
   "metadata": {},
   "outputs": [],
   "source": [
    "tmp = train_log.get_column(\"session_id\").map_dict(session_id_fold_dict)\n",
    "train_log = train_log.with_columns(pl.Series(\"fold\", tmp))"
   ]
  },
  {
   "cell_type": "code",
   "execution_count": null,
   "metadata": {},
   "outputs": [],
   "source": [
    "train_label = pl.read_csv(\"../data/train_label.csv\")"
   ]
  },
  {
   "cell_type": "code",
   "execution_count": null,
   "metadata": {},
   "outputs": [],
   "source": []
  },
  {
   "cell_type": "code",
   "execution_count": 6,
   "metadata": {},
   "outputs": [
    {
     "data": {
      "text/html": [
       "<div><style>\n",
       ".dataframe > thead > tr > th,\n",
       ".dataframe > tbody > tr > td {\n",
       "  text-align: right;\n",
       "  white-space: pre-wrap;\n",
       "}\n",
       "</style>\n",
       "<small>shape: (90_316, 3)</small><table border=\"1\" class=\"dataframe\"><thead><tr><th>latest_yad_no</th><th>yad_no</th><th>co_visit_count</th></tr><tr><td>i64</td><td>i64</td><td>u32</td></tr></thead><tbody><tr><td>2</td><td>3860</td><td>2</td></tr><tr><td>2</td><td>3847</td><td>1</td></tr><tr><td>2</td><td>12162</td><td>1</td></tr><tr><td>2</td><td>12232</td><td>1</td></tr><tr><td>2</td><td>13783</td><td>1</td></tr><tr><td>3</td><td>10095</td><td>41</td></tr><tr><td>3</td><td>846</td><td>24</td></tr><tr><td>3</td><td>5800</td><td>10</td></tr><tr><td>3</td><td>7093</td><td>8</td></tr><tr><td>3</td><td>10211</td><td>6</td></tr><tr><td>3</td><td>13131</td><td>5</td></tr><tr><td>3</td><td>11295</td><td>5</td></tr><tr><td>&hellip;</td><td>&hellip;</td><td>&hellip;</td></tr><tr><td>13804</td><td>9181</td><td>1</td></tr><tr><td>13804</td><td>376</td><td>1</td></tr><tr><td>13804</td><td>6349</td><td>1</td></tr><tr><td>13804</td><td>4239</td><td>1</td></tr><tr><td>13805</td><td>5068</td><td>1</td></tr><tr><td>13805</td><td>5271</td><td>1</td></tr><tr><td>13806</td><td>11113</td><td>8</td></tr><tr><td>13806</td><td>8762</td><td>3</td></tr><tr><td>13806</td><td>3326</td><td>1</td></tr><tr><td>13806</td><td>4020</td><td>1</td></tr><tr><td>13806</td><td>6141</td><td>1</td></tr><tr><td>13806</td><td>6997</td><td>1</td></tr></tbody></table></div>"
      ],
      "text/plain": [
       "shape: (90_316, 3)\n",
       "┌───────────────┬────────┬────────────────┐\n",
       "│ latest_yad_no ┆ yad_no ┆ co_visit_count │\n",
       "│ ---           ┆ ---    ┆ ---            │\n",
       "│ i64           ┆ i64    ┆ u32            │\n",
       "╞═══════════════╪════════╪════════════════╡\n",
       "│ 2             ┆ 3860   ┆ 2              │\n",
       "│ 2             ┆ 3847   ┆ 1              │\n",
       "│ 2             ┆ 12162  ┆ 1              │\n",
       "│ 2             ┆ 12232  ┆ 1              │\n",
       "│ …             ┆ …      ┆ …              │\n",
       "│ 13806         ┆ 3326   ┆ 1              │\n",
       "│ 13806         ┆ 4020   ┆ 1              │\n",
       "│ 13806         ┆ 6141   ┆ 1              │\n",
       "│ 13806         ┆ 6997   ┆ 1              │\n",
       "└───────────────┴────────┴────────────────┘"
      ]
     },
     "execution_count": 6,
     "metadata": {},
     "output_type": "execute_result"
    }
   ],
   "source": [
    "def get_co_visit_matrix(train_log: pl.DataFrame):\n",
    "    train_log = train_log.clone()\n",
    "\n",
    "    def generate_co_visit_matrix(df: pl.DataFrame) -> pl.DataFrame:\n",
    "        # 共起ペアの作成\n",
    "        df = df.join(df, on=\"session_id\")\n",
    "        # yad_noが同じものは除外する\n",
    "        df = df.filter(pl.col(\"yad_no\") != pl.col(\"yad_no_right\"))\n",
    "        # yad_noのペアごとに共起回数を計算\n",
    "        df = df.group_by([\"yad_no\", \"yad_no_right\"]).count()\n",
    "        # 整形\n",
    "        df = df.rename(\n",
    "            {\n",
    "                \"yad_no_right\": \"candidate_yad_no\",\n",
    "                \"count\": \"co_visit_count\",\n",
    "            }\n",
    "        )[[\"yad_no\", \"candidate_yad_no\", \"co_visit_count\"]]\n",
    "\n",
    "        return df\n",
    "\n",
    "    train_co_visit_matrix = generate_co_visit_matrix(train_log)\n",
    "    # test_co_visit_matrix = generate_co_visit_matrix(test_log)\n",
    "\n",
    "    # 最後に見た宿と紐づけてcandidateを作成するために、renameしておく。\n",
    "    train_co_visit_matrix = train_co_visit_matrix.rename(\n",
    "        {\"yad_no\": \"latest_yad_no\", \"candidate_yad_no\": \"yad_no\"}\n",
    "    )\n",
    "    # test_co_visit_matrix = test_co_visit_matrix.rename(\n",
    "    #     {\"yad_no\": \"latest_yad_no\", \"candidate_yad_no\": \"yad_no\"}\n",
    "    # )\n",
    "    train_co_visit_matrix_top10_candidate = (\n",
    "        train_co_visit_matrix.sort(\n",
    "            [\"latest_yad_no\", \"co_visit_count\"], descending=[False, True]\n",
    "        )\n",
    "        .group_by(\"latest_yad_no\")\n",
    "        .head(100_000)\n",
    "    )\n",
    "    return train_co_visit_matrix_top10_candidate\n",
    "    # test_co_visit_matrix_top10_candidate = (\n",
    "    #     test_co_visit_matrix.sort(\n",
    "    #         [\"latest_yad_no\", \"co_visit_count\"], descending=[False, True]\n",
    "    #     )\n",
    "    #     .group_by(\"latest_yad_no\")\n",
    "    #     .head(10)\n",
    "    # )\n",
    "\n",
    "\n",
    "for i in range(5):\n",
    "    train_log = train_log.filter(pl.col(\"fold\") == i)\n",
    "    train_co_visit_matrix_top10_candidate = get_co_visit_matrix(train_log)"
   ]
  },
  {
   "cell_type": "code",
   "execution_count": 12,
   "metadata": {},
   "outputs": [],
   "source": [
    "train_co_visit_matrix.write_parquet(f\"{Config.OUTPUT_DIR}/train_co_visit_matrix.pkl\")\n",
    "test_co_visit_matrix.write_parquet(f\"{Config.OUTPUT_DIR}/test_co_visit_matrix.pkl\")"
   ]
  },
  {
   "cell_type": "code",
   "execution_count": null,
   "metadata": {},
   "outputs": [],
   "source": []
  }
 ],
 "metadata": {
  "kernelspec": {
   "display_name": ".venv",
   "language": "python",
   "name": "python3"
  },
  "language_info": {
   "codemirror_mode": {
    "name": "ipython",
    "version": 3
   },
   "file_extension": ".py",
   "mimetype": "text/x-python",
   "name": "python",
   "nbconvert_exporter": "python",
   "pygments_lexer": "ipython3",
   "version": "3.11.3"
  }
 },
 "nbformat": 4,
 "nbformat_minor": 2
}
