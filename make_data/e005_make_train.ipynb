{
 "cells": [
  {
   "cell_type": "code",
   "execution_count": 1,
   "metadata": {},
   "outputs": [],
   "source": [
    "NOTEBOOK_NAME = \"e005_make_train\""
   ]
  },
  {
   "cell_type": "code",
   "execution_count": 2,
   "metadata": {},
   "outputs": [],
   "source": [
    "import os\n",
    "import pickle\n",
    "import numpy as np\n",
    "import pandas as pd\n",
    "import lightgbm as lgb\n",
    "import matplotlib.pyplot as plt\n",
    "from sklearn.model_selection import StratifiedKFold\n",
    "from sklearn.metrics import roc_auc_score\n",
    "import seaborn as sns\n",
    "import japanize_matplotlib\n",
    "from tqdm.auto import tqdm"
   ]
  },
  {
   "cell_type": "code",
   "execution_count": 3,
   "metadata": {},
   "outputs": [],
   "source": [
    "class Config:\n",
    "    OUTPUT_DIR = f\"../saved_data/{NOTEBOOK_NAME}\"\n",
    "    SEED = 33\n",
    "\n",
    "\n",
    "os.makedirs(Config.OUTPUT_DIR, exist_ok=True)"
   ]
  },
  {
   "cell_type": "code",
   "execution_count": 4,
   "metadata": {},
   "outputs": [],
   "source": [
    "train_log = pd.read_csv(\"../data/train_log.csv\")\n",
    "train_label = pd.read_csv(\"../data/train_label.csv\")\n",
    "\n",
    "test_log = pd.read_csv(\"../data/test_log.csv\")\n",
    "test_label = pd.read_csv(\"../data/test_session.csv\")\n",
    "\n",
    "yado = pd.read_csv(\"../data/yado.csv\")\n",
    "\n",
    "sample_submission = pd.read_csv(\"../data/sample_submission.csv\")\n",
    "\n",
    "# image_embeddings = pd.read_parquet(\"../data/image_embeddings.parquet\")"
   ]
  },
  {
   "cell_type": "code",
   "execution_count": 5,
   "metadata": {},
   "outputs": [
    {
     "data": {
      "text/html": [
       "<div>\n",
       "<style scoped>\n",
       "    .dataframe tbody tr th:only-of-type {\n",
       "        vertical-align: middle;\n",
       "    }\n",
       "\n",
       "    .dataframe tbody tr th {\n",
       "        vertical-align: top;\n",
       "    }\n",
       "\n",
       "    .dataframe thead th {\n",
       "        text-align: right;\n",
       "    }\n",
       "</style>\n",
       "<table border=\"1\" class=\"dataframe\">\n",
       "  <thead>\n",
       "    <tr style=\"text-align: right;\">\n",
       "      <th></th>\n",
       "      <th>session_id</th>\n",
       "      <th>yad_no</th>\n",
       "    </tr>\n",
       "  </thead>\n",
       "  <tbody>\n",
       "    <tr>\n",
       "      <th>0</th>\n",
       "      <td>000007603d533d30453cc45d0f3d119f</td>\n",
       "      <td>4101</td>\n",
       "    </tr>\n",
       "    <tr>\n",
       "      <th>1</th>\n",
       "      <td>0000ca043ed437a1472c9d1d154eb49b</td>\n",
       "      <td>8253</td>\n",
       "    </tr>\n",
       "    <tr>\n",
       "      <th>2</th>\n",
       "      <td>0000d4835cf113316fe447e2f80ba1c8</td>\n",
       "      <td>4863</td>\n",
       "    </tr>\n",
       "    <tr>\n",
       "      <th>3</th>\n",
       "      <td>0000fcda1ae1b2f431e55a7075d1f500</td>\n",
       "      <td>1652</td>\n",
       "    </tr>\n",
       "    <tr>\n",
       "      <th>4</th>\n",
       "      <td>000104bdffaaad1a1e0a9ebacf585f33</td>\n",
       "      <td>96</td>\n",
       "    </tr>\n",
       "    <tr>\n",
       "      <th>...</th>\n",
       "      <td>...</td>\n",
       "      <td>...</td>\n",
       "    </tr>\n",
       "    <tr>\n",
       "      <th>288693</th>\n",
       "      <td>ffff2262d38abdeb247ebd591835dcc9</td>\n",
       "      <td>2259</td>\n",
       "    </tr>\n",
       "    <tr>\n",
       "      <th>288694</th>\n",
       "      <td>ffff2360540745117193ecadcdc06538</td>\n",
       "      <td>963</td>\n",
       "    </tr>\n",
       "    <tr>\n",
       "      <th>288695</th>\n",
       "      <td>ffff7fb4617164b2604aaf51c40bf82d</td>\n",
       "      <td>13719</td>\n",
       "    </tr>\n",
       "    <tr>\n",
       "      <th>288696</th>\n",
       "      <td>ffffcd5bc19d62cad5a3815c87818d83</td>\n",
       "      <td>10619</td>\n",
       "    </tr>\n",
       "    <tr>\n",
       "      <th>288697</th>\n",
       "      <td>fffffa7baf370083ebcdd98f26a7e31a</td>\n",
       "      <td>2439</td>\n",
       "    </tr>\n",
       "  </tbody>\n",
       "</table>\n",
       "<p>288698 rows × 2 columns</p>\n",
       "</div>"
      ],
      "text/plain": [
       "                              session_id  yad_no\n",
       "0       000007603d533d30453cc45d0f3d119f    4101\n",
       "1       0000ca043ed437a1472c9d1d154eb49b    8253\n",
       "2       0000d4835cf113316fe447e2f80ba1c8    4863\n",
       "3       0000fcda1ae1b2f431e55a7075d1f500    1652\n",
       "4       000104bdffaaad1a1e0a9ebacf585f33      96\n",
       "...                                  ...     ...\n",
       "288693  ffff2262d38abdeb247ebd591835dcc9    2259\n",
       "288694  ffff2360540745117193ecadcdc06538     963\n",
       "288695  ffff7fb4617164b2604aaf51c40bf82d   13719\n",
       "288696  ffffcd5bc19d62cad5a3815c87818d83   10619\n",
       "288697  fffffa7baf370083ebcdd98f26a7e31a    2439\n",
       "\n",
       "[288698 rows x 2 columns]"
      ]
     },
     "execution_count": 5,
     "metadata": {},
     "output_type": "execute_result"
    }
   ],
   "source": [
    "train_label"
   ]
  },
  {
   "cell_type": "markdown",
   "metadata": {},
   "source": [
    "# 前処理"
   ]
  },
  {
   "cell_type": "code",
   "execution_count": 6,
   "metadata": {},
   "outputs": [],
   "source": [
    "train_reserved = train_label.copy()"
   ]
  },
  {
   "cell_type": "code",
   "execution_count": 7,
   "metadata": {},
   "outputs": [],
   "source": [
    "# 予約があった宿に対しては1を立てる\n",
    "train_reserved[\"reserve\"] = 1"
   ]
  },
  {
   "cell_type": "code",
   "execution_count": 8,
   "metadata": {},
   "outputs": [],
   "source": [
    "# 予約はないが、logでの閲覧があった宿に対して0を立てる\n",
    "def add_log_yado_list(\n",
    "    train_log: pd.DataFrame, train_label: pd.DataFrame\n",
    ") -> pd.DataFrame:\n",
    "    train_log_yado_no_sr = train_log.groupby(\"session_id\")[\"yad_no\"].apply(list)\n",
    "    train_label[\"logged_yad_no_list\"] = train_log_yado_no_sr.values\n",
    "    return train_label\n",
    "\n",
    "\n",
    "train_logged = add_log_yado_list(train_log, train_label)"
   ]
  },
  {
   "cell_type": "code",
   "execution_count": 9,
   "metadata": {},
   "outputs": [
    {
     "data": {
      "application/vnd.jupyter.widget-view+json": {
       "model_id": "e3a6bacd937a404297cfff909da79edb",
       "version_major": 2,
       "version_minor": 0
      },
      "text/plain": [
       "  0%|          | 0/288698 [00:00<?, ?it/s]"
      ]
     },
     "metadata": {},
     "output_type": "display_data"
    }
   ],
   "source": [
    "# 予約をしたログのlistから、予約があった宿を除外する\n",
    "logged_only_yados = []\n",
    "for idx, row in tqdm(train_logged.iterrows(), total=len(train_logged)):\n",
    "    logged_yad_no_list = row[\"logged_yad_no_list\"]\n",
    "    yad_no = row[\"yad_no\"]\n",
    "    logged_only_yado = [\n",
    "        logged_yad_no for logged_yad_no in logged_yad_no_list if yad_no != logged_yad_no\n",
    "    ]\n",
    "    logged_only_yado = list(dict.fromkeys(logged_only_yado))\n",
    "    logged_only_yados.append(logged_only_yado)\n",
    "\n",
    "# train_logged_explodeとしてデータフレームを作成\n",
    "train_logged[\"logged_only_yados\"] = logged_only_yados\n",
    "train_logged_explode = train_logged[[\"session_id\", \"logged_only_yados\"]].explode(\n",
    "    \"logged_only_yados\"\n",
    ")\n",
    "train_logged_explode[\"reserve\"] = 0"
   ]
  },
  {
   "cell_type": "code",
   "execution_count": 10,
   "metadata": {},
   "outputs": [],
   "source": [
    "# yado_noとken_cdの辞書を作成\n",
    "# yado_no_ken_cd_dict = yado[[\"yad_no\", \"ken_cd\"]].set_index(\"yad_no\").to_dict()[\"ken_cd\"]"
   ]
  },
  {
   "cell_type": "code",
   "execution_count": 11,
   "metadata": {},
   "outputs": [],
   "source": [
    "# # 最後にログに登場した宿のken_cdと同じ宿の中から、ログに登場しない宿をランダムに5件抽出\n",
    "# def get_last_log_same_ken_cd_random_10(\n",
    "#     train_logged: pd.DataFrame, yado: pd.DataFrame\n",
    "# ) -> dict:\n",
    "#     outputs = {}\n",
    "#     yado_only_yado_no_ken_cd = yado[[\"yad_no\", \"ken_cd\"]]\n",
    "#     seddion_id_logged_yad_no_list = dict(\n",
    "#         zip(train_logged[\"session_id\"], train_logged[\"logged_yad_no_list\"])\n",
    "#     )\n",
    "#     for session_id, logged_yad_no in tqdm(\n",
    "#         seddion_id_logged_yad_no_list.items(),\n",
    "#         total=len(seddion_id_logged_yad_no_list),\n",
    "#     ):\n",
    "#         last_log_ken_cd = yado_no_ken_cd_dict[logged_yad_no[-1]]\n",
    "#         # 最後のログと同じ県の宿で、ログに登場しない宿をランダムに10件抽出\n",
    "#         random_yado_10 = (\n",
    "#             yado_only_yado_no_ken_cd[\n",
    "#                 (yado_only_yado_no_ken_cd[\"ken_cd\"] == last_log_ken_cd)\n",
    "#                 & (~yado_only_yado_no_ken_cd[\"yad_no\"].isin(logged_yad_no))\n",
    "#             ]\n",
    "#             .sample(5, random_state=Config.SEED)[\"yad_no\"]\n",
    "#             .tolist()\n",
    "#         )\n",
    "\n",
    "#         outputs[session_id] = random_yado_10\n",
    "#     return outputs\n",
    "\n",
    "\n",
    "# negative_data_dict = get_last_log_same_ken_cd_random_10(train_logged, yado)"
   ]
  },
  {
   "cell_type": "code",
   "execution_count": 12,
   "metadata": {},
   "outputs": [
    {
     "data": {
      "application/vnd.jupyter.widget-view+json": {
       "model_id": "83e62158583340f0aeeeb388ce8553e3",
       "version_major": 2,
       "version_minor": 0
      },
      "text/plain": [
       "  0%|          | 0/288698 [00:00<?, ?it/s]"
      ]
     },
     "metadata": {},
     "output_type": "display_data"
    }
   ],
   "source": [
    "# 最後にログに登場した宿のlrg_cdと同じ宿の中から、ログに登場しない宿をランダムに10件抽出\n",
    "def get_last_log_same_lrg_cd_random_10(\n",
    "    train_logged: pd.DataFrame, yado: pd.DataFrame\n",
    ") -> dict:\n",
    "    # yado_noとken_cdの辞書を作成\n",
    "    yado_no_lrg_cd_dict = (\n",
    "        yado[[\"yad_no\", \"lrg_cd\"]].set_index(\"yad_no\").to_dict()[\"lrg_cd\"]\n",
    "    )\n",
    "    outputs = {}\n",
    "    yado_only_yado_no_lrg_cd = yado[[\"yad_no\", \"lrg_cd\"]]\n",
    "    seddion_id_logged_yad_no_list = dict(\n",
    "        zip(train_logged[\"session_id\"], train_logged[\"logged_yad_no_list\"])\n",
    "    )\n",
    "    for session_id, logged_yad_no in tqdm(\n",
    "        seddion_id_logged_yad_no_list.items(),\n",
    "        total=len(seddion_id_logged_yad_no_list),\n",
    "    ):\n",
    "        last_log_lrg_cd = yado_no_lrg_cd_dict[logged_yad_no[-1]]\n",
    "        # 最後のログと同じlrg_cdの宿で、ログに登場しない宿をランダムに10件抽出\n",
    "        filter_yado = yado_only_yado_no_lrg_cd[\n",
    "            (yado_only_yado_no_lrg_cd[\"lrg_cd\"] == last_log_lrg_cd)\n",
    "            & (~yado_only_yado_no_lrg_cd[\"yad_no\"].isin(logged_yad_no))\n",
    "        ]\n",
    "\n",
    "        random_yado_10 = filter_yado.sample(\n",
    "            min(10, filter_yado.shape[0]), random_state=Config.SEED\n",
    "        )[\"yad_no\"].tolist()\n",
    "\n",
    "        outputs[session_id] = random_yado_10\n",
    "    return outputs\n",
    "\n",
    "\n",
    "negative_data_dict = get_last_log_same_lrg_cd_random_10(train_logged, yado)"
   ]
  },
  {
   "cell_type": "code",
   "execution_count": 17,
   "metadata": {},
   "outputs": [],
   "source": [
    "negative_data = pd.DataFrame(\n",
    "    {\n",
    "        \"session_id\": negative_data_dict.keys(),\n",
    "        \"negative_yados\": negative_data_dict.values(),\n",
    "    }\n",
    ")\n",
    "\n",
    "negative_data_explode = negative_data.explode(\"negative_yados\")\n",
    "negative_data_explode = negative_data_explode.rename(\n",
    "    columns={\"negative_yados\": \"yad_no\"}\n",
    ")\n",
    "negative_data_explode[\"reserve\"] = 0"
   ]
  },
  {
   "cell_type": "code",
   "execution_count": 19,
   "metadata": {},
   "outputs": [],
   "source": [
    "# データを保存、一応\n",
    "train_reserved.to_pickle(f\"{Config.OUTPUT_DIR}/{NOTEBOOK_NAME}_train_reserved.pkl\")\n",
    "train_logged_explode.to_pickle(\n",
    "    f\"{Config.OUTPUT_DIR}/{NOTEBOOK_NAME}_train_logged_explode.pkl\"\n",
    ")\n",
    "negative_data_explode.to_pickle(\n",
    "    f\"{Config.OUTPUT_DIR}/{NOTEBOOK_NAME}_negative_data_explode.pkl\"\n",
    ")"
   ]
  },
  {
   "cell_type": "code",
   "execution_count": 70,
   "metadata": {},
   "outputs": [],
   "source": [
    "# 正例、微妙な正例、負例を全て結合\n",
    "def merge_train_data(\n",
    "    train_reserved: pd.DataFrame,\n",
    "    train_logged_explode: pd.DataFrame,\n",
    "    # negative_data_explode: pd.DataFrame,\n",
    ") -> pd.DataFrame:\n",
    "    train_data = pd.concat(\n",
    "        [\n",
    "            train_reserved,\n",
    "            train_logged_explode.rename(columns={\"logged_only_yados\": \"yad_no\"}),\n",
    "            # negative_data_explode.rename(columns={\"negative_yad_no\": \"yad_no\"}),\n",
    "        ]\n",
    "    ).reset_index(drop=True)\n",
    "    return train_data\n",
    "\n",
    "\n",
    "merged_train = merge_train_data(\n",
    "    train_reserved,\n",
    "    train_logged_explode,\n",
    "    # negative_data_explode\n",
    ")"
   ]
  },
  {
   "cell_type": "code",
   "execution_count": 71,
   "metadata": {},
   "outputs": [
    {
     "data": {
      "text/html": [
       "<div>\n",
       "<style scoped>\n",
       "    .dataframe tbody tr th:only-of-type {\n",
       "        vertical-align: middle;\n",
       "    }\n",
       "\n",
       "    .dataframe tbody tr th {\n",
       "        vertical-align: top;\n",
       "    }\n",
       "\n",
       "    .dataframe thead th {\n",
       "        text-align: right;\n",
       "    }\n",
       "</style>\n",
       "<table border=\"1\" class=\"dataframe\">\n",
       "  <thead>\n",
       "    <tr style=\"text-align: right;\">\n",
       "      <th></th>\n",
       "      <th>session_id</th>\n",
       "      <th>logged_only_yados</th>\n",
       "      <th>reserve</th>\n",
       "    </tr>\n",
       "  </thead>\n",
       "  <tbody>\n",
       "    <tr>\n",
       "      <th>0</th>\n",
       "      <td>000007603d533d30453cc45d0f3d119f</td>\n",
       "      <td>2395</td>\n",
       "      <td>0</td>\n",
       "    </tr>\n",
       "    <tr>\n",
       "      <th>1</th>\n",
       "      <td>0000ca043ed437a1472c9d1d154eb49b</td>\n",
       "      <td>13535</td>\n",
       "      <td>0</td>\n",
       "    </tr>\n",
       "    <tr>\n",
       "      <th>2</th>\n",
       "      <td>0000d4835cf113316fe447e2f80ba1c8</td>\n",
       "      <td>123</td>\n",
       "      <td>0</td>\n",
       "    </tr>\n",
       "    <tr>\n",
       "      <th>3</th>\n",
       "      <td>0000fcda1ae1b2f431e55a7075d1f500</td>\n",
       "      <td>8475</td>\n",
       "      <td>0</td>\n",
       "    </tr>\n",
       "    <tr>\n",
       "      <th>4</th>\n",
       "      <td>000104bdffaaad1a1e0a9ebacf585f33</td>\n",
       "      <td>898</td>\n",
       "      <td>0</td>\n",
       "    </tr>\n",
       "    <tr>\n",
       "      <th>...</th>\n",
       "      <td>...</td>\n",
       "      <td>...</td>\n",
       "      <td>...</td>\n",
       "    </tr>\n",
       "    <tr>\n",
       "      <th>288693</th>\n",
       "      <td>ffff2262d38abdeb247ebd591835dcc9</td>\n",
       "      <td>8140</td>\n",
       "      <td>0</td>\n",
       "    </tr>\n",
       "    <tr>\n",
       "      <th>288694</th>\n",
       "      <td>ffff2360540745117193ecadcdc06538</td>\n",
       "      <td>2121</td>\n",
       "      <td>0</td>\n",
       "    </tr>\n",
       "    <tr>\n",
       "      <th>288695</th>\n",
       "      <td>ffff7fb4617164b2604aaf51c40bf82d</td>\n",
       "      <td>7183</td>\n",
       "      <td>0</td>\n",
       "    </tr>\n",
       "    <tr>\n",
       "      <th>288696</th>\n",
       "      <td>ffffcd5bc19d62cad5a3815c87818d83</td>\n",
       "      <td>12230</td>\n",
       "      <td>0</td>\n",
       "    </tr>\n",
       "    <tr>\n",
       "      <th>288697</th>\n",
       "      <td>fffffa7baf370083ebcdd98f26a7e31a</td>\n",
       "      <td>11822</td>\n",
       "      <td>0</td>\n",
       "    </tr>\n",
       "  </tbody>\n",
       "</table>\n",
       "<p>310458 rows × 3 columns</p>\n",
       "</div>"
      ],
      "text/plain": [
       "                              session_id logged_only_yados  reserve\n",
       "0       000007603d533d30453cc45d0f3d119f              2395        0\n",
       "1       0000ca043ed437a1472c9d1d154eb49b             13535        0\n",
       "2       0000d4835cf113316fe447e2f80ba1c8               123        0\n",
       "3       0000fcda1ae1b2f431e55a7075d1f500              8475        0\n",
       "4       000104bdffaaad1a1e0a9ebacf585f33               898        0\n",
       "...                                  ...               ...      ...\n",
       "288693  ffff2262d38abdeb247ebd591835dcc9              8140        0\n",
       "288694  ffff2360540745117193ecadcdc06538              2121        0\n",
       "288695  ffff7fb4617164b2604aaf51c40bf82d              7183        0\n",
       "288696  ffffcd5bc19d62cad5a3815c87818d83             12230        0\n",
       "288697  fffffa7baf370083ebcdd98f26a7e31a             11822        0\n",
       "\n",
       "[310458 rows x 3 columns]"
      ]
     },
     "execution_count": 71,
     "metadata": {},
     "output_type": "execute_result"
    }
   ],
   "source": [
    "train_logged_explode"
   ]
  },
  {
   "cell_type": "code",
   "execution_count": 75,
   "metadata": {},
   "outputs": [],
   "source": [
    "# session_idごとのyado_idのlistを追加\n",
    "session_id_logged_yad_no_dict = (\n",
    "    train_log.groupby(\"session_id\")[\"yad_no\"].apply(list).to_dict()\n",
    ")\n",
    "\n",
    "merged_train[\"logged_yad_no_list\"] = merged_train[\"session_id\"].map(\n",
    "    session_id_logged_yad_no_dict\n",
    ")"
   ]
  },
  {
   "cell_type": "code",
   "execution_count": 76,
   "metadata": {},
   "outputs": [],
   "source": [
    "merged_train.to_pickle(f\"{Config.OUTPUT_DIR}/{NOTEBOOK_NAME}_merged_train.pkl\")"
   ]
  },
  {
   "cell_type": "code",
   "execution_count": 77,
   "metadata": {},
   "outputs": [
    {
     "data": {
      "text/plain": [
       "'../saved_data/e005_make_train/e005_make_train_merged_train.pkl'"
      ]
     },
     "execution_count": 77,
     "metadata": {},
     "output_type": "execute_result"
    }
   ],
   "source": [
    "f\"{Config.OUTPUT_DIR}/{NOTEBOOK_NAME}_merged_train.pkl\""
   ]
  },
  {
   "cell_type": "code",
   "execution_count": null,
   "metadata": {},
   "outputs": [],
   "source": []
  }
 ],
 "metadata": {
  "kernelspec": {
   "display_name": ".venv",
   "language": "python",
   "name": "python3"
  },
  "language_info": {
   "codemirror_mode": {
    "name": "ipython",
    "version": 3
   },
   "file_extension": ".py",
   "mimetype": "text/x-python",
   "name": "python",
   "nbconvert_exporter": "python",
   "pygments_lexer": "ipython3",
   "version": "3.11.3"
  },
  "orig_nbformat": 4
 },
 "nbformat": 4,
 "nbformat_minor": 2
}
