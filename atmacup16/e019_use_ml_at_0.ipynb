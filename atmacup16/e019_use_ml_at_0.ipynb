{
 "cells": [
  {
   "cell_type": "code",
   "execution_count": 16,
   "metadata": {},
   "outputs": [],
   "source": [
    "NOTEBOOK_NAME = \"e019_use_ml_at_0\""
   ]
  },
  {
   "cell_type": "code",
   "execution_count": 17,
   "metadata": {},
   "outputs": [],
   "source": [
    "# 必要ライブラリのimportとデータの読み込み\n",
    "import pandas as pd\n",
    "from collections import defaultdict\n",
    "from heapq import heappush, heappop\n",
    "\n",
    "yado = pd.read_csv(\"../data/yado.csv\", dtype={\"yad_no\": int})  # 今回は使いません\n",
    "train_log = pd.read_csv(\n",
    "    \"../data/train_log.csv\", dtype={\"session_id\": str, \"seq_no\": int, \"yad_no\": int}\n",
    ")\n",
    "train_label = pd.read_csv(\n",
    "    \"../data/train_label.csv\", dtype={\"session_id\": str, \"yad_no\": int}\n",
    ")\n",
    "test_log = pd.read_csv(\n",
    "    \"../data/test_log.csv\", dtype={\"session_id\": str, \"seq_no\": int, \"yad_no\": int}\n",
    ")\n",
    "test_session = pd.read_csv(\"../data/test_session.csv\", dtype={\"session_id\": str})"
   ]
  },
  {
   "cell_type": "code",
   "execution_count": 18,
   "metadata": {},
   "outputs": [],
   "source": [
    "# データの加工\n",
    "\n",
    "# train_logで実際に予約した宿をひけるようにしておく\n",
    "map_reserved = defaultdict(int)\n",
    "for idx, rec in train_label.iterrows():\n",
    "    session_id, yad_no_reserved = rec\n",
    "    map_reserved[session_id] = yad_no_reserved\n",
    "\n",
    "\n",
    "# 縦持ちのセッションログを、session_id : [閲覧したyad_noのリスト] のdictに変換\n",
    "def Make_session_list(session_log):\n",
    "    map_session_yads = defaultdict(list)\n",
    "    for _, row in session_log.iterrows():\n",
    "        session_id = row[0]\n",
    "        yad_no = row[2]\n",
    "        map_session_yads[session_id].append(yad_no)\n",
    "    return map_session_yads\n",
    "\n",
    "\n",
    "map_session_yads_train = Make_session_list(train_log)\n",
    "map_session_yads_test = Make_session_list(test_log)\n",
    "\n",
    "# D[v][r]:= 「最後に宿vを閲覧して、宿rを予約した」セッションの件数\n",
    "D = defaultdict(lambda: defaultdict(int))\n",
    "for session_id, viewed_yad_no in map_session_yads_train.items():\n",
    "    last_viewed = viewed_yad_no[-1]\n",
    "    reserved = map_reserved[session_id]\n",
    "    D[last_viewed][reserved] += 1"
   ]
  },
  {
   "cell_type": "code",
   "execution_count": 19,
   "metadata": {},
   "outputs": [],
   "source": [
    "# test_logを用いて予測値を出力\n",
    "\n",
    "# 1. 1件の宿vしか閲覧していないログの場合、D[v][r]の大きい順にrを10件出力する.\n",
    "# 2. 2件以上閲覧しているログの場合、最後から2番目に閲覧している宿を1位とする. その後、2位以降について1.と同様に出力する.\n",
    "test_session_number = len(test_session)\n",
    "Predicted_List = [[0] * 10 for _ in range(test_session_number)]\n",
    "for idx, session_id in enumerate(test_session[\"session_id\"]):\n",
    "    viewed_number = len(map_session_yads_test[session_id])\n",
    "    last_viewed = map_session_yads_test[session_id][-1]\n",
    "    rank = 0\n",
    "\n",
    "    if viewed_number > 1:\n",
    "        Predicted_List[idx][rank] = map_session_yads_test[session_id][-2]\n",
    "        rank += 1\n",
    "\n",
    "    sorted_yad_list = []\n",
    "    for yad_no, viewed_cnt in D[last_viewed].items():\n",
    "        heappush(sorted_yad_list, (-viewed_cnt, yad_no))\n",
    "\n",
    "    while rank < 10 and sorted_yad_list:\n",
    "        _, predicted_yad_no = heappop(sorted_yad_list)\n",
    "        Predicted_List[idx][rank] = predicted_yad_no\n",
    "        rank += 1\n",
    "\n",
    "df_rulebase = pd.DataFrame(\n",
    "    Predicted_List,\n",
    "    columns=[\n",
    "        \"predict_0\",\n",
    "        \"predict_1\",\n",
    "        \"predict_2\",\n",
    "        \"predict_3\",\n",
    "        \"predict_4\",\n",
    "        \"predict_5\",\n",
    "        \"predict_6\",\n",
    "        \"predict_7\",\n",
    "        \"predict_8\",\n",
    "        \"predict_9\",\n",
    "    ],\n",
    ")"
   ]
  },
  {
   "cell_type": "code",
   "execution_count": 20,
   "metadata": {},
   "outputs": [],
   "source": [
    "df_ml = pd.read_csv(\n",
    "    \"../sub/e017_add_same_area_flg_and_log_feat_make_model_auc0.9236_mapk0.5595.csv\"\n",
    ")"
   ]
  },
  {
   "cell_type": "code",
   "execution_count": 21,
   "metadata": {},
   "outputs": [],
   "source": [
    "# test_sessionに対し、session_lengthを付与する\n",
    "test_session_length = test_log.groupby(\"session_id\")[\"yad_no\"].count()\n",
    "# test_session[\"session_length\"] = (\n",
    "#     test_session[\"session_id\"].map(map_session_yads_test).map(len)\n",
    "# )"
   ]
  },
  {
   "cell_type": "code",
   "execution_count": 22,
   "metadata": {},
   "outputs": [],
   "source": [
    "test_session = test_session.merge(\n",
    "    test_session_length.rename(\"session_length\"), on=\"session_id\", how=\"left\"\n",
    ")"
   ]
  },
  {
   "cell_type": "code",
   "execution_count": 25,
   "metadata": {},
   "outputs": [
    {
     "data": {
      "text/plain": [
       "predict_0    1024532055\n",
       "predict_1     935716711\n",
       "predict_2     941523300\n",
       "predict_3     933846258\n",
       "predict_4     921571477\n",
       "predict_5     909302571\n",
       "predict_6     896081599\n",
       "predict_7     879809327\n",
       "predict_8     866316035\n",
       "predict_9     852308474\n",
       "dtype: int64"
      ]
     },
     "execution_count": 25,
     "metadata": {},
     "output_type": "execute_result"
    }
   ],
   "source": [
    "df_rulebase.sum()"
   ]
  },
  {
   "cell_type": "code",
   "execution_count": 23,
   "metadata": {},
   "outputs": [],
   "source": [
    "sub_df = df_rulebase.copy()\n",
    "sub_df[(sub_df == 0)] = df_ml[(sub_df == 0)]"
   ]
  },
  {
   "cell_type": "code",
   "execution_count": 28,
   "metadata": {},
   "outputs": [],
   "source": [
    "sub_df.to_csv(f\"../sub/{NOTEBOOK_NAME}_rulebase_0_ml.csv\", index=False)"
   ]
  }
 ],
 "metadata": {
  "kernelspec": {
   "display_name": ".venv",
   "language": "python",
   "name": "python3"
  },
  "language_info": {
   "codemirror_mode": {
    "name": "ipython",
    "version": 3
   },
   "file_extension": ".py",
   "mimetype": "text/x-python",
   "name": "python",
   "nbconvert_exporter": "python",
   "pygments_lexer": "ipython3",
   "version": "3.11.3"
  }
 },
 "nbformat": 4,
 "nbformat_minor": 2
}
