{
 "cells": [
  {
   "cell_type": "code",
   "execution_count": 1,
   "metadata": {},
   "outputs": [],
   "source": [
    "NOTEBOOK_NAME = \"e020_markov\""
   ]
  },
  {
   "cell_type": "code",
   "execution_count": 3,
   "metadata": {},
   "outputs": [],
   "source": [
    "# 必要ライブラリのimportとデータの読み込み\n",
    "import pandas as pd\n",
    "from collections import defaultdict\n",
    "from heapq import heappush, heappop\n",
    "\n",
    "yado = pd.read_csv(\"../data/yado.csv\", dtype={\"yad_no\": int})  # 今回は使いません\n",
    "train_log = pd.read_csv(\n",
    "    \"../data/train_log.csv\", dtype={\"session_id\": str, \"seq_no\": int, \"yad_no\": int}\n",
    ")\n",
    "train_label = pd.read_csv(\n",
    "    \"../data/train_label.csv\", dtype={\"session_id\": str, \"yad_no\": int}\n",
    ")\n",
    "test_log = pd.read_csv(\n",
    "    \"../data/test_log.csv\", dtype={\"session_id\": str, \"seq_no\": int, \"yad_no\": int}\n",
    ")\n",
    "test_session = pd.read_csv(\"../data/test_session.csv\", dtype={\"session_id\": str})"
   ]
  },
  {
   "cell_type": "code",
   "execution_count": null,
   "metadata": {},
   "outputs": [],
   "source": [
    "trai"
   ]
  },
  {
   "cell_type": "code",
   "execution_count": 6,
   "metadata": {},
   "outputs": [
    {
     "data": {
      "text/plain": [
       "session_id\n",
       "000007603d533d30453cc45d0f3d119f                   [2395]\n",
       "0000ca043ed437a1472c9d1d154eb49b                  [13535]\n",
       "0000d4835cf113316fe447e2f80ba1c8                    [123]\n",
       "0000fcda1ae1b2f431e55a7075d1f500                   [8475]\n",
       "000104bdffaaad1a1e0a9ebacf585f33                [96, 898]\n",
       "                                            ...          \n",
       "ffff2262d38abdeb247ebd591835dcc9                   [8140]\n",
       "ffff2360540745117193ecadcdc06538                   [2121]\n",
       "ffff7fb4617164b2604aaf51c40bf82d                   [7183]\n",
       "ffffcd5bc19d62cad5a3815c87818d83    [12230, 10619, 12230]\n",
       "fffffa7baf370083ebcdd98f26a7e31a            [2439, 11822]\n",
       "Name: yad_no, Length: 288698, dtype: object"
      ]
     },
     "execution_count": 6,
     "metadata": {},
     "output_type": "execute_result"
    }
   ],
   "source": [
    "train_log.groupby(\"session_id\")[\"yad_no\"].apply(list).to_csv(\"sample.csv\")"
   ]
  },
  {
   "cell_type": "code",
   "execution_count": null,
   "metadata": {},
   "outputs": [],
   "source": []
  }
 ],
 "metadata": {
  "kernelspec": {
   "display_name": ".venv",
   "language": "python",
   "name": "python3"
  },
  "language_info": {
   "codemirror_mode": {
    "name": "ipython",
    "version": 3
   },
   "file_extension": ".py",
   "mimetype": "text/x-python",
   "name": "python",
   "nbconvert_exporter": "python",
   "pygments_lexer": "ipython3",
   "version": "3.11.3"
  }
 },
 "nbformat": 4,
 "nbformat_minor": 2
}
