{
 "cells": [
  {
   "cell_type": "code",
   "execution_count": 55,
   "metadata": {},
   "outputs": [],
   "source": [
    "import pandas as pd"
   ]
  },
  {
   "cell_type": "code",
   "execution_count": 56,
   "metadata": {},
   "outputs": [],
   "source": [
    "train_log = pd.read_csv(\"../data/train_log.csv\")\n",
    "train_label = pd.read_csv(\"../data/train_label.csv\")\n",
    "\n",
    "test_log = pd.read_csv(\"../data/test_log.csv\")\n",
    "test_label = pd.read_csv(\"../data/test_session.csv\")\n",
    "\n",
    "yado = pd.read_csv(\"../data/yado.csv\")\n",
    "\n",
    "sample_submission = pd.read_csv(\"../data/sample_submission.csv\")\n",
    "\n",
    "# image_embeddings = pd.read_parquet(\"../data/image_embeddings.parquet\")"
   ]
  },
  {
   "cell_type": "code",
   "execution_count": 57,
   "metadata": {},
   "outputs": [],
   "source": [
    "# logの数を追加\n",
    "train_label_rename = train_label.rename(columns={\"yad_no\": \"selected_yad_no\"})\n",
    "session_id_log_num_dict = train_log.groupby(\"session_id\")[\"yad_no\"].count().to_dict()\n",
    "train_label_rename[\"session_id_log_num\"] = train_label_rename[\"session_id\"].map(\n",
    "    session_id_log_num_dict\n",
    ")"
   ]
  },
  {
   "cell_type": "code",
   "execution_count": 58,
   "metadata": {},
   "outputs": [],
   "source": [
    "# 過去に見たlogのyado_idを追加\n",
    "train_log_yado_no_sr = train_log.groupby(\"session_id\")[\"yad_no\"].apply(list)\n",
    "train_label_rename[\"yad_no_list\"] = train_log_yado_no_sr.values"
   ]
  },
  {
   "cell_type": "code",
   "execution_count": 59,
   "metadata": {},
   "outputs": [],
   "source": [
    "# logが1件のsession_idに限定\n",
    "train_label_rename_log_cnt_1 = train_label_rename[\n",
    "    train_label_rename[\"session_id_log_num\"] == 1\n",
    "]"
   ]
  },
  {
   "cell_type": "code",
   "execution_count": 60,
   "metadata": {},
   "outputs": [
    {
     "name": "stderr",
     "output_type": "stream",
     "text": [
      "/var/folders/4p/kqrm_mh10fn2pjkrxfzxh03c0000gq/T/ipykernel_43394/3627810249.py:2: SettingWithCopyWarning: \n",
      "A value is trying to be set on a copy of a slice from a DataFrame.\n",
      "Try using .loc[row_indexer,col_indexer] = value instead\n",
      "\n",
      "See the caveats in the documentation: https://pandas.pydata.org/pandas-docs/stable/user_guide/indexing.html#returning-a-view-versus-a-copy\n",
      "  train_label_rename_log_cnt_1[\"logged_yad_no\"] = train_label_rename_log_cnt_1[\n"
     ]
    }
   ],
   "source": [
    "# listからidに変換\n",
    "train_label_rename_log_cnt_1[\"logged_yad_no\"] = train_label_rename_log_cnt_1[\n",
    "    \"yad_no_list\"\n",
    "].apply(lambda x: x[0])"
   ]
  },
  {
   "cell_type": "code",
   "execution_count": 63,
   "metadata": {},
   "outputs": [],
   "source": [
    "train_label_rename_log_cnt_1_with_yado_info = pd.merge(\n",
    "    train_label_rename_log_cnt_1,\n",
    "    yado.add_prefix(\"selected_\"),\n",
    "    on=\"selected_yad_no\",\n",
    "    how=\"left\",\n",
    ")\n",
    "\n",
    "train_label_rename_log_cnt_1_with_yado_info = pd.merge(\n",
    "    train_label_rename_log_cnt_1_with_yado_info,\n",
    "    yado.add_prefix(\"logged_\"),\n",
    "    on=\"logged_yad_no\",\n",
    "    how=\"left\",\n",
    ")"
   ]
  },
  {
   "cell_type": "code",
   "execution_count": 65,
   "metadata": {},
   "outputs": [],
   "source": [
    "def calc_match_rate(df: pd.DataFrame, col: str) -> None:\n",
    "    match = (\n",
    "        train_label_rename_log_cnt_1_with_yado_info[f\"selected_{col}\"]\n",
    "        == train_label_rename_log_cnt_1_with_yado_info[f\"logged_{col}\"]\n",
    "    )\n",
    "\n",
    "    print(match.count())\n",
    "    print(match.sum())\n",
    "    print(match.mean())"
   ]
  },
  {
   "cell_type": "code",
   "execution_count": 66,
   "metadata": {},
   "outputs": [
    {
     "name": "stdout",
     "output_type": "stream",
     "text": [
      "185386\n",
      "184344\n",
      "0.9943792950924017\n"
     ]
    }
   ],
   "source": [
    "calc_match_rate(train_label_rename_log_cnt_1_with_yado_info, \"wid_cd\")"
   ]
  },
  {
   "cell_type": "code",
   "execution_count": 67,
   "metadata": {},
   "outputs": [
    {
     "name": "stdout",
     "output_type": "stream",
     "text": [
      "185386\n",
      "182327\n",
      "0.9834992933662736\n"
     ]
    }
   ],
   "source": [
    "calc_match_rate(train_label_rename_log_cnt_1_with_yado_info, \"ken_cd\")"
   ]
  },
  {
   "cell_type": "code",
   "execution_count": 68,
   "metadata": {},
   "outputs": [
    {
     "name": "stdout",
     "output_type": "stream",
     "text": [
      "185386\n",
      "170630\n",
      "0.9204039139956631\n"
     ]
    }
   ],
   "source": [
    "calc_match_rate(train_label_rename_log_cnt_1_with_yado_info, \"lrg_cd\")"
   ]
  },
  {
   "cell_type": "code",
   "execution_count": 69,
   "metadata": {},
   "outputs": [
    {
     "name": "stdout",
     "output_type": "stream",
     "text": [
      "185386\n",
      "140421\n",
      "0.7574520190305633\n"
     ]
    }
   ],
   "source": [
    "calc_match_rate(train_label_rename_log_cnt_1_with_yado_info, \"sml_cd\")"
   ]
  },
  {
   "cell_type": "code",
   "execution_count": null,
   "metadata": {},
   "outputs": [],
   "source": []
  }
 ],
 "metadata": {
  "kernelspec": {
   "display_name": ".venv",
   "language": "python",
   "name": "python3"
  },
  "language_info": {
   "codemirror_mode": {
    "name": "ipython",
    "version": 3
   },
   "file_extension": ".py",
   "mimetype": "text/x-python",
   "name": "python",
   "nbconvert_exporter": "python",
   "pygments_lexer": "ipython3",
   "version": "3.11.3"
  }
 },
 "nbformat": 4,
 "nbformat_minor": 2
}
